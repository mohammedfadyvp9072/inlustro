{
 "cells": [
  {
   "cell_type": "code",
   "execution_count": null,
   "id": "caee20ff",
   "metadata": {},
   "outputs": [],
   "source": []
  },
  {
   "cell_type": "code",
   "execution_count": null,
   "id": "24371139",
   "metadata": {},
   "outputs": [
    {
     "ename": "TypeError",
     "evalue": "'NoneType' object is not callable",
     "output_type": "error",
     "traceback": [
      "\u001b[31m---------------------------------------------------------------------------\u001b[39m",
      "\u001b[31mTypeError\u001b[39m                                 Traceback (most recent call last)",
      "\u001b[36mCell\u001b[39m\u001b[36m \u001b[39m\u001b[32mIn[1]\u001b[39m\u001b[32m, line 31\u001b[39m\n\u001b[32m     21\u001b[39m \u001b[38;5;66;03m#graph adjacency list\u001b[39;00m\n\u001b[32m     22\u001b[39m graph={\n\u001b[32m     23\u001b[39m \n\u001b[32m     24\u001b[39m \u001b[33m'\u001b[39m\u001b[33mA\u001b[39m\u001b[33m'\u001b[39m:[(\u001b[33m'\u001b[39m\u001b[33mB\u001b[39m\u001b[33m'\u001b[39m,\u001b[32m1\u001b[39m),(\u001b[33m'\u001b[39m\u001b[33mC\u001b[39m\u001b[33m'\u001b[39m,\u001b[32m3\u001b[39m)],\n\u001b[32m   (...)\u001b[39m\u001b[32m     28\u001b[39m \n\u001b[32m     29\u001b[39m }\n\u001b[32m---> \u001b[39m\u001b[32m31\u001b[39m \u001b[38;5;28mprint\u001b[39m(\u001b[33m\"\u001b[39m\u001b[33mPrims\u001b[39m\u001b[33m'\u001b[39m\u001b[33ms most cost:\u001b[39m\u001b[33m\"\u001b[39m,\u001b[43mprims\u001b[49m\u001b[43m(\u001b[49m\u001b[43mgraph\u001b[49m\u001b[43m,\u001b[49m\u001b[33;43m'\u001b[39;49m\u001b[33;43mA\u001b[39;49m\u001b[33;43m'\u001b[39;49m\u001b[43m)\u001b[49m)\n",
      "\u001b[36mCell\u001b[39m\u001b[36m \u001b[39m\u001b[32mIn[1]\u001b[39m\u001b[32m, line 16\u001b[39m, in \u001b[36mprims\u001b[39m\u001b[34m(graph, start)\u001b[39m\n\u001b[32m     14\u001b[39m         \u001b[38;5;28;01mif\u001b[39;00m v \u001b[38;5;129;01mnot\u001b[39;00m \u001b[38;5;129;01min\u001b[39;00m visited \u001b[38;5;129;01mand\u001b[39;00m w < min_w:\n\u001b[32m     15\u001b[39m             min_w=w\n\u001b[32m---> \u001b[39m\u001b[32m16\u001b[39m             \u001b[43medge\u001b[49m\u001b[43m(\u001b[49m\u001b[43mu\u001b[49m\u001b[43m,\u001b[49m\u001b[43mw\u001b[49m\u001b[43m)\u001b[49m\n\u001b[32m     18\u001b[39m total_cost += min_w\n\u001b[32m     19\u001b[39m visited.add(edge[\u001b[32m1\u001b[39m])\n",
      "\u001b[31mTypeError\u001b[39m: 'NoneType' object is not callable"
     ]
    }
   ],
   "source": [
    "#Prim's Algorithm\n",
    "\n",
    "def prims(graph,start):\n",
    "    visited =set([start])\n",
    "    total_cost=0\n",
    "    while len(visited)<len(graph):\n",
    "        edge=None\n",
    "        min_w=float(\"inf\")\n",
    "\n",
    "        #Find the smallest edge from visited -> unvisited\n",
    "\n",
    "        for u in visited:\n",
    "            for v,w in graph[u]:\n",
    "                if v not in visited and w < min_w:\n",
    "                    min_w=w\n",
    "                    edge(u,w)\n",
    "\n",
    "        total_cost += min_w\n",
    "        visited.add(edge[1])\n",
    "    return total_cost\n",
    "#graph adjacency list\n",
    "graph={\n",
    "\n",
    "'A':[('B',1),('C',3)],\n",
    "'B':[('A',1),('C',2),('D',4)],\n",
    "'C':[('A',3),('B',2),('D',5)],\n",
    "'D':[('B',4),('C',5)]\n",
    "\n",
    "}\n",
    "\n",
    "print(\"Prim's most cost:\",prims(graph,'A'))"
   ]
  },
  {
   "cell_type": "code",
   "execution_count": null,
   "id": "8dd7e8c5",
   "metadata": {},
   "outputs": [],
   "source": [
    "#Krushkal's Algorithm\n",
    "'''\n",
    "Start with any node\n",
    "sort edges by cost\n",
    "It dont form a loop or cycle\n",
    "If it is form a loop or cycle then ignore the edge\n",
    "'''"
   ]
  },
  {
   "cell_type": "code",
   "execution_count": 3,
   "id": "8e23a098",
   "metadata": {},
   "outputs": [
    {
     "name": "stdout",
     "output_type": "stream",
     "text": [
      "Kruskal's MST cost :  7\n"
     ]
    }
   ],
   "source": [
    "def find (parent,x):\n",
    "    if parent[x] !=x:\n",
    "        parent[x]=find(parent,parent[x])\n",
    "    return parent[x]\n",
    "def kruskals(nodes,edges):\n",
    "    parent={n: n for n in nodes}\n",
    "    edges.sort(key=lambda x:x[2])\n",
    "    total_cost=0\n",
    "\n",
    "    for u,v,w in edges:\n",
    "        if find(parent,u) != find(parent,v):\n",
    "            parent[find(parent,u)]=find(parent,v)\n",
    "            total_cost+=w\n",
    "    return total_cost\n",
    "nodes=['A','B','C','D']\n",
    "edges=[\n",
    "('A','B',1),\n",
    "('B','C',2),\n",
    "('A','C',3),\n",
    "('B','D',4),\n",
    "('C','D',5)\n",
    "]\n",
    "\n",
    "\n",
    "print(\"Kruskal's MST cost : \" , kruskals(nodes,edges))\n",
    "\n",
    "\n"
   ]
  },
  {
   "cell_type": "code",
   "execution_count": null,
   "id": "63100c88",
   "metadata": {},
   "outputs": [],
   "source": [
    "#Dynamic Programming\n",
    "'''\n",
    "Dynamic Programming ia a method for designing the algorithm.\n",
    "\n",
    "An algorithm designed with Dynamic Programming divides the problem into subproblems,finds solution to the \n",
    "problem we want to solve\n",
    "\n",
    "\n",
    "'''"
   ]
  },
  {
   "cell_type": "code",
   "execution_count": 4,
   "id": "e494cdc1",
   "metadata": {},
   "outputs": [
    {
     "name": "stdout",
     "output_type": "stream",
     "text": [
      "3\n"
     ]
    }
   ],
   "source": [
    "# Climbing a Stairs\n",
    "# #Method 1: Recursion (slow)\n",
    "def climb(n):\n",
    "    if n <= 1:\n",
    "        return 1\n",
    "    return climb(n-1) + climb(n-2)\n",
    "print(climb(3))"
   ]
  },
  {
   "cell_type": "code",
   "execution_count": 5,
   "id": "5edad5a8",
   "metadata": {},
   "outputs": [
    {
     "name": "stdout",
     "output_type": "stream",
     "text": [
      "8\n"
     ]
    }
   ],
   "source": [
    "#Method 2: Memoization (fast) Top down\n",
    "memory = {}\n",
    "def climb(n):\n",
    "    if n <= 1:\n",
    "        return 1\n",
    "    if n in memory:\n",
    "        return memory [n]\n",
    "    memory[n] = climb(n-1) + climb(n-2)\n",
    "    return memory [n]\n",
    "print(climb (5)) # Output: 8"
   ]
  },
  {
   "cell_type": "code",
   "execution_count": null,
   "id": "963b1a6f",
   "metadata": {},
   "outputs": [
    {
     "name": "stdout",
     "output_type": "stream",
     "text": [
      "8\n"
     ]
    }
   ],
   "source": [
    "#Method 3: Tabulation (bottom-up)\n",
    "def climb(n):\n",
    "    dp=[0] * (n + 1) \n",
    "    dp[0] = dp[1] = 1\n",
    "    for i in range(2, n+1):\n",
    "        dp[i] = dp[i - 1] + dp[i - 2]\n",
    "    return dp[n]\n",
    "print(climb(5))\n",
    "# Output:8"
   ]
  },
  {
   "cell_type": "code",
   "execution_count": 7,
   "id": "d9ac43e5",
   "metadata": {},
   "outputs": [
    {
     "data": {
      "text/plain": [
       "6"
      ]
     },
     "execution_count": 7,
     "metadata": {},
     "output_type": "execute_result"
    }
   ],
   "source": [
    "#Recursive Approach\n",
    "def minCoins (coins, amount):\n",
    "    if amount == 0:\n",
    "        return 0\n",
    "    res = float('inf') # Big number (100000)\n",
    "    for coin in coins:\n",
    "        if amount - coin >= 0:\n",
    "            res = min(res, minCoins (coins, amount- coin) + 1)\n",
    "        return res\n",
    "minCoins ([1,3,4],6) # 3+36, 4+1+1 = 6"
   ]
  },
  {
   "cell_type": "code",
   "execution_count": 8,
   "id": "b6930975",
   "metadata": {},
   "outputs": [
    {
     "name": "stdout",
     "output_type": "stream",
     "text": [
      "2\n"
     ]
    }
   ],
   "source": [
    "#Recursive approach\n",
    "def minCoins (coins, amount):\n",
    "    if amount == 0:\n",
    "        return 0\n",
    "    res = None \n",
    "    for coin in coins:\n",
    "        if amount- coin >= 0:\n",
    "            ans = minCoins (coins, amount- coin)\n",
    "        if ans is not None:\n",
    "            if res is None or ans+1 < res:\n",
    "                res = ans + 1\n",
    "    return res\n",
    "print(minCoins ([1,3,4],6))"
   ]
  }
 ],
 "metadata": {
  "kernelspec": {
   "display_name": "Python 3",
   "language": "python",
   "name": "python3"
  },
  "language_info": {
   "codemirror_mode": {
    "name": "ipython",
    "version": 3
   },
   "file_extension": ".py",
   "mimetype": "text/x-python",
   "name": "python",
   "nbconvert_exporter": "python",
   "pygments_lexer": "ipython3",
   "version": "3.13.5"
  }
 },
 "nbformat": 4,
 "nbformat_minor": 5
}
