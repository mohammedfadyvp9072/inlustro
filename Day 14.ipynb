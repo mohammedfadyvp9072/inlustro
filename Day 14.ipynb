{
 "cells": [
  {
   "cell_type": "code",
   "execution_count": null,
   "id": "938959ee",
   "metadata": {},
   "outputs": [
    {
     "name": "stdout",
     "output_type": "stream",
     "text": [
      "0.5\n"
     ]
    }
   ],
   "source": [
    "#Probabaility- A Chance\n"
   ]
  },
  {
   "cell_type": "code",
   "execution_count": 28,
   "id": "b5436058",
   "metadata": {},
   "outputs": [
    {
     "name": "stdout",
     "output_type": "stream",
     "text": [
      "0.75\n"
     ]
    }
   ],
   "source": [
    "#Code to get atleast one head\n",
    "\n",
    "outcomes=['HH','HT','TH','TT']\n",
    "count=0\n",
    "for i in outcomes:\n",
    "    if 'T' in i:\n",
    "        count+=1\n",
    "else:\n",
    "    print(count/len(outcomes))\n",
    "\n"
   ]
  },
  {
   "cell_type": "code",
   "execution_count": 23,
   "id": "0d1c654a",
   "metadata": {},
   "outputs": [
    {
     "name": "stdout",
     "output_type": "stream",
     "text": [
      "0.5\n"
     ]
    }
   ],
   "source": [
    "Basket=['Apple']*3 + ['Orange']*2 + ['Banana']*1\n",
    "total_value = len(Basket)\n",
    "totel=Basket.count('Orange') + Basket.count('Banana')\n",
    "outcome = totel / total_value\n",
    "print(outcome)\n",
    "\n"
   ]
  },
  {
   "cell_type": "code",
   "execution_count": 25,
   "id": "ebd8769d",
   "metadata": {},
   "outputs": [
    {
     "name": "stdout",
     "output_type": "stream",
     "text": [
      "0.6666666666666666\n"
     ]
    }
   ],
   "source": [
    "Basket=['Apple']*3 + ['Orange']*2 + ['Banana']*1\n",
    "total_value = len(Basket)\n",
    "totel=Basket.count('Orange')\n",
    "outcome = total_value - totel\n",
    "outcome1 = outcome / total_value\n",
    "print(outcome1)"
   ]
  },
  {
   "cell_type": "code",
   "execution_count": 26,
   "id": "e6a30472",
   "metadata": {},
   "outputs": [
    {
     "name": "stdout",
     "output_type": "stream",
     "text": [
      "0.5\n"
     ]
    }
   ],
   "source": [
    "Basket=['Apple']*3 + ['Orange']*2 + ['Banana']*1\n",
    "total_value = len(Basket)\n",
    "totel=Basket.count('Apple')\n",
    "outcome = total_value - totel\n",
    "outcome1 = outcome / total_value\n",
    "print(outcome1)"
   ]
  },
  {
   "cell_type": "code",
   "execution_count": 33,
   "id": "3b9d0f31",
   "metadata": {},
   "outputs": [
    {
     "name": "stdout",
     "output_type": "stream",
     "text": [
      "0.8333333333333334\n",
      "0.25\n"
     ]
    }
   ],
   "source": [
    "Total=100\n",
    "sunny=40\n",
    "rainy=60\n",
    "umbrella_sunny=10\n",
    "umbrella_rainy=50\n",
    "#Conditional probability\n",
    "p_umbrella_given_sunny = umbrella_sunny / sunny\n",
    "p_umbrella_given_rainy = umbrella_rainy / rainy\n",
    "print(p_umbrella_given_rainy)\n",
    "print(p_umbrella_given_sunny)"
   ]
  },
  {
   "cell_type": "code",
   "execution_count": null,
   "id": "4b6a87b5",
   "metadata": {},
   "outputs": [],
   "source": [
    "Total=100\n",
    "sunny=40\n",
    "rainy=60\n",
    "umbrella_sunny=10\n",
    "umbrella_rainy=50\n",
    "#Conditional probability\n",
    "p_umbrella_given_sunny = umbrella_sunny / sunny\n",
    "p_umbrella_given_rainy = umbrella_rainy / rainy\n",
    "print(p_umbrella_given_rainy)\n",
    "print(p_umbrella_given_sunny)"
   ]
  },
  {
   "cell_type": "code",
   "execution_count": null,
   "id": "a11209f2",
   "metadata": {},
   "outputs": [
    {
     "name": "stdout",
     "output_type": "stream",
     "text": [
      "0.75\n"
     ]
    }
   ],
   "source": [
    "Total=100\n",
    "Monday_attendance=80\n",
    "#Tuesday_attendance is 60 out of monday_attendance\n",
    "Tuesday_attendance=60\n",
    "#Conditional probability\n",
    "p_tuesday_given_monday = Tuesday_attendance / Monday_attendance\n",
    "# This is the probability of attending on Tuesday given that you attended on Monday\n",
    "\n",
    "print(p_tuesday_given_monday)\n",
    "\n"
   ]
  },
  {
   "cell_type": "code",
   "execution_count": null,
   "id": "102c342c",
   "metadata": {},
   "outputs": [
    {
     "name": "stdout",
     "output_type": "stream",
     "text": [
      "0.75\n"
     ]
    }
   ],
   "source": [
    "Total=100\n",
    "Monday_attendance=80\n",
    "both=60\n",
    "#p(A/B)=P(A intersection B)/P(B)\n",
    "p_tuesday_given_monday = both / Monday_attendance\n",
    "# This is the probability of attending on Tuesday given that you attended on Monday\n",
    "print(p_tuesday_given_monday)"
   ]
  },
  {
   "cell_type": "code",
   "execution_count": 41,
   "id": "05fedf7d",
   "metadata": {},
   "outputs": [
    {
     "name": "stdout",
     "output_type": "stream",
     "text": [
      "22.5\n"
     ]
    }
   ],
   "source": [
    "Total=100\n",
    "Monday_attendance=80\n",
    "both=60\n",
    "wednesday_attendance=30\n",
    "#p(A/B)=P(A intersection B)/P(B)\n",
    "p_tuesday_given_monday = both / Monday_attendance\n",
    "# This is the probability of attending on Tuesday given that you attended on Monday\n",
    "p_wednesday_given_monday = p_tuesday_given_monday*wednesday_attendance\n",
    "print(p_wednesday_given_monday)\n",
    "\n"
   ]
  },
  {
   "cell_type": "code",
   "execution_count": 6,
   "id": "aa36a3a3",
   "metadata": {},
   "outputs": [
    {
     "name": "stdout",
     "output_type": "stream",
     "text": [
      "0.75\n"
     ]
    }
   ],
   "source": [
    "# 100 mails\n",
    "# 40 mails is spam\n",
    "# 60 mails not spam\n",
    "\n",
    "#frequency value\n",
    "p_spam=40\n",
    "p_not_spam=60\n",
    "#likelihood(\"win\" word found in both spam and not spam)\n",
    "p_win_given_spam=30/40\n",
    "p_win_given_not_spam=10/60\n",
    "#total probability of appearing the word win\n",
    "p_win=(p_win_given_spam*p_spam)+(p_win_given_not_spam*p_not_spam)\n",
    "#bayes formula\n",
    "p_spam_given_win=(p_win_given_spam*p_spam)/p_win\n",
    "print(p_spam_given_win)\n",
    "\n",
    "\n"
   ]
  },
  {
   "cell_type": "code",
   "execution_count": 7,
   "id": "4cd99f7c",
   "metadata": {},
   "outputs": [
    {
     "name": "stdout",
     "output_type": "stream",
     "text": [
      "0.6666666666666666\n"
     ]
    }
   ],
   "source": [
    "#Total =100\n",
    "#Rain=0.2\n",
    "#No Rain=0.8\n",
    "#P(Cloud |Rain)=0.8\n",
    "#P(Cloud |No Rain)=0.1\n",
    "#(Rain|Cloud)=? Bayes Theorem\n",
    "\n",
    "rain=0.2\n",
    "no_rain=0.8\n",
    "p_cloud_rainy=0.8\n",
    "p_cloud_not_rainy=0.1\n",
    "\n",
    "p_cloud=(p_cloud_rainy*rain)+(p_cloud_not_rainy*no_rain)\n",
    "p_cloud_given_rain=(p_cloud_rainy*rain)/p_cloud\n",
    "print(p_cloud_given_rain)\n"
   ]
  }
 ],
 "metadata": {
  "kernelspec": {
   "display_name": "Python 3",
   "language": "python",
   "name": "python3"
  },
  "language_info": {
   "codemirror_mode": {
    "name": "ipython",
    "version": 3
   },
   "file_extension": ".py",
   "mimetype": "text/x-python",
   "name": "python",
   "nbconvert_exporter": "python",
   "pygments_lexer": "ipython3",
   "version": "3.13.5"
  }
 },
 "nbformat": 4,
 "nbformat_minor": 5
}
