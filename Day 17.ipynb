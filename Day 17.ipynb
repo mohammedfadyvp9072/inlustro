{
 "cells": [
  {
   "cell_type": "code",
   "execution_count": 4,
   "id": "654f7622",
   "metadata": {},
   "outputs": [
    {
     "data": {
      "text/plain": [
       "200"
      ]
     },
     "execution_count": 4,
     "metadata": {},
     "output_type": "execute_result"
    }
   ],
   "source": [
    "class vehicle():\n",
    "    def __init__(self,type_of_vehicle,monthly_pass):\n",
    "        self.type_of_vehicle=type_of_vehicle\n",
    "        self.monthly_pass=monthly_pass\n",
    "    def toll_pass(self):\n",
    "        amount={\"bike\":0,\"car\":150,\"truck\":250,\"bus\":200}\n",
    "        if self.monthly_pass:\n",
    "            return 0\n",
    "        else:\n",
    "            return amount.get(self.type_of_vehicle)\n",
    "        \n",
    "v1=vehicle(\"bus\",False)\n",
    "v1.toll_pass()"
   ]
  },
  {
   "cell_type": "code",
   "execution_count": 5,
   "id": "cf06020e",
   "metadata": {},
   "outputs": [
    {
     "ename": "SyntaxError",
     "evalue": "expected ':' (3290658458.py, line 7)",
     "output_type": "error",
     "traceback": [
      "  \u001b[36mCell\u001b[39m\u001b[36m \u001b[39m\u001b[32mIn[5]\u001b[39m\u001b[32m, line 7\u001b[39m\n\u001b[31m    \u001b[39m\u001b[31mclass user\u001b[39m\n              ^\n\u001b[31mSyntaxError\u001b[39m\u001b[31m:\u001b[39m expected ':'\n"
     ]
    }
   ],
   "source": [
    "import math\n",
    "from datetime import date\n",
    "class boom():\n",
    "    def __init__(self,title,borrow_date):\n",
    "        self.title = title\n",
    "        self.borrow_date\n",
    "class user"
   ]
  },
  {
   "cell_type": "code",
   "execution_count": 7,
   "id": "d7980f5e",
   "metadata": {},
   "outputs": [
    {
     "name": "stdout",
     "output_type": "stream",
     "text": [
      "Machine Aproduces 2400 and the maintenance cost is 240.0\n"
     ]
    }
   ],
   "source": [
    "class machine():\n",
    "    def __init__(self,name,rate,cost):\n",
    "        self.name=name\n",
    "        self.rate=rate\n",
    "        self.cost=cost\n",
    "    def produce(self):\n",
    "        return self.rate*24 #per hr\n",
    "    def m_c(self):\n",
    "        return self.produce()/self.cost\n",
    "    \n",
    "M1=machine(\"Machine A\",100,10)\n",
    "M2=machine(\"Machine B \",150,1500)\n",
    "M1.produce()\n",
    "print(f\"{M1.name}produces {M1.produce() } and the maintenance cost is {M1.m_c()}\")"
   ]
  },
  {
   "cell_type": "code",
   "execution_count": 1,
   "id": "ac68930c",
   "metadata": {},
   "outputs": [
    {
     "name": "stdout",
     "output_type": "stream",
     "text": [
      "Buzz\n"
     ]
    }
   ],
   "source": [
    "n = int(input(\"enter the number:\"))\n",
    "if (n%3 == 0 and n%5 ==0):\n",
    "    print(\"FizzBuzz\")\n",
    "elif (n%3 == 0):\n",
    "    print(\"Fizz\")\n",
    "elif (n%5 == 0):\n",
    "    print(\"Buzz\")   \n",
    "else:\n",
    "    print(f\"{n} cant devided by 3 or 5\")"
   ]
  }
 ],
 "metadata": {
  "kernelspec": {
   "display_name": "Python 3",
   "language": "python",
   "name": "python3"
  },
  "language_info": {
   "codemirror_mode": {
    "name": "ipython",
    "version": 3
   },
   "file_extension": ".py",
   "mimetype": "text/x-python",
   "name": "python",
   "nbconvert_exporter": "python",
   "pygments_lexer": "ipython3",
   "version": "3.13.5"
  }
 },
 "nbformat": 4,
 "nbformat_minor": 5
}
